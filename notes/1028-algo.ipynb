{
 "cells": [
  {
   "cell_type": "markdown",
   "id": "d9a39e1f",
   "metadata": {},
   "source": [
    "## 1. 导言\n",
    "\n",
    "使用 triton的仓库： sglang、vllm\n",
    "\n",
    "triton 隐藏了 shared memory，thread概念，从 block为单位进行编程\n",
    "\n"
   ]
  },
  {
   "cell_type": "markdown",
   "id": "1008fdbd",
   "metadata": {},
   "source": [
    "## 2. 推理流程 \n",
    "\n",
    "1. 输入处理： padding\n",
    "2. 编码 : tensor_shape = [b, s , h]\n",
    "3. prefill: 重点是 PagedAttn\n",
    "4. decode: 维护 kv-cache"
   ]
  },
  {
   "cell_type": "markdown",
   "id": "b61c83d8",
   "metadata": {},
   "source": [
    "-----------------"
   ]
  },
  {
   "cell_type": "markdown",
   "id": "802cfbe9",
   "metadata": {},
   "source": [
    "## 第一节课：\n",
    "\n"
   ]
  }
 ],
 "metadata": {
  "kernelspec": {
   "display_name": "dits",
   "language": "python",
   "name": "python3"
  },
  "language_info": {
   "name": "python",
   "version": "3.10.16"
  }
 },
 "nbformat": 4,
 "nbformat_minor": 5
}
